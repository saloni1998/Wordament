{
 "cells": [
  {
   "cell_type": "code",
   "execution_count": 1,
   "metadata": {
    "collapsed": true
   },
   "outputs": [],
   "source": [
    "import numpy as np\n",
    "import pandas as pd"
   ]
  },
  {
   "cell_type": "code",
   "execution_count": 11,
   "metadata": {
    "collapsed": true
   },
   "outputs": [],
   "source": [
    "import os\n",
    "from PIL import Image"
   ]
  },
  {
   "cell_type": "code",
   "execution_count": 62,
   "metadata": {
    "collapsed": true
   },
   "outputs": [],
   "source": [
    "from keras.models import Model\n",
    "from keras.layers import Dense,Input,Conv2D,MaxPooling2D,GlobalAveragePooling2D,Activation,Dropout\n",
    "from keras.losses import binary_crossentropy\n",
    "from keras.optimizers import Adam,SGD"
   ]
  },
  {
   "cell_type": "code",
   "execution_count": 63,
   "metadata": {
    "collapsed": true
   },
   "outputs": [],
   "source": [
    "def model():\n",
    "    inputs=l=Input((60,60,1))\n",
    "    l=Conv2D(32,(3,3),padding=\"same\",name=\"conv_1\")(l)\n",
    "    l=Activation(\"relu\",name=\"conv_act_1\")(l)\n",
    "    l=MaxPooling2D((3,3),strides=(2,2),padding=\"valid\",name=\"conv_pool1\")(l)\n",
    "    \n",
    "    \n",
    "    l=Conv2D(64,(3,3),padding=\"same\",name=\"conv_2\")(l)\n",
    "    l=Activation(\"relu\",name=\"conv_act_2\")(l)\n",
    "    l=MaxPooling2D((3,3),strides=(2,2),padding=\"valid\",name=\"conv_pool2\")(l)\n",
    "    \n",
    "    l=Conv2D(128,(3,3),padding=\"same\",name=\"conv_3\")(l)\n",
    "    l=Activation(\"relu\",name=\"conv_act_3\")(l)\n",
    "    l=GlobalAveragePooling2D()(l)\n",
    "    l=Dropout(0.5)(l)\n",
    "    \n",
    "    l=Dense(64,activation=\"relu\",name=\"d1\")(l)\n",
    "    l=Dense(26,activation=\"softmax\",name=\"d2\")(l)\n",
    "    outputs=l\n",
    "    return inputs,outputs\n",
    "    "
   ]
  },
  {
   "cell_type": "code",
   "execution_count": 68,
   "metadata": {
    "collapsed": true
   },
   "outputs": [],
   "source": [
    "from keras.preprocessing.image import ImageDataGenerator\n",
    "\n"
   ]
  },
  {
   "cell_type": "code",
   "execution_count": null,
   "metadata": {
    "collapsed": true
   },
   "outputs": [],
   "source": [
    "def get_ocr(tiles):\n",
    "    inputs,outputs=model()\n",
    "    mod=Model(inputs=inputs,outputs=outputs)\n",
    "    optim=Adam(1e-4)\n",
    "    mod.compile(optimizer=optim,loss=\"categorical_crossentropy\",metrics=[\"accuracy\"])\n",
    "    mod.load_weights(\"./weights/ocr_multiclass_dropout_weights_60*60_TransferLearning.h5\",by_name=True)\n",
    "    test=np.asarray(tiles).reshape(-1,60,60,1)\n",
    "    idg=ImageDataGenerator(featurewise_center=True,featurewise_std_normalization=True)\n",
    "    idg.fit(test)\n",
    "    testing_gen = idg.flow(test,[0]*len(tiles),shuffle=False)\n",
    "    \n",
    "    \n"
   ]
  }
 ],
 "metadata": {
  "kernelspec": {
   "display_name": "Python 3",
   "language": "python",
   "name": "python3"
  },
  "language_info": {
   "codemirror_mode": {
    "name": "ipython",
    "version": 3
   },
   "file_extension": ".py",
   "mimetype": "text/x-python",
   "name": "python",
   "nbconvert_exporter": "python",
   "pygments_lexer": "ipython3",
   "version": "3.5.3"
  }
 },
 "nbformat": 4,
 "nbformat_minor": 2
}
