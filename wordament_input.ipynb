{
 "cells": [
  {
   "cell_type": "code",
   "execution_count": 42,
   "metadata": {
    "collapsed": true
   },
   "outputs": [],
   "source": [
    "import pyautogui as p\n",
    "import numpy as np\n",
    "import matplotlib.pyplot as plt\n",
    "import pandas as pd\n",
    "from screenshot import _screenshot_win32 as scr"
   ]
  },
  {
   "cell_type": "code",
   "execution_count": null,
   "metadata": {
    "collapsed": true
   },
   "outputs": [],
   "source": []
  },
  {
   "cell_type": "code",
   "execution_count": 43,
   "metadata": {
    "collapsed": true
   },
   "outputs": [],
   "source": [
    "x_screen=[1041,1160,1180,1296,1315,1431,1452,1568]\n",
    "y_screen = [337,451,472,590,610,726,745,863]"
   ]
  },
  {
   "cell_type": "code",
   "execution_count": 44,
   "metadata": {
    "collapsed": true
   },
   "outputs": [],
   "source": [
    "x_screen=[1093,1192,1203,1299,1315,1408,1421,1518]\n",
    "y_screen = [388,486,499,597,608,703,717,812]"
   ]
  },
  {
   "cell_type": "code",
   "execution_count": 45,
   "metadata": {},
   "outputs": [
    {
     "data": {
      "text/plain": [
       "(409, 375)"
      ]
     },
     "execution_count": 45,
     "metadata": {},
     "output_type": "execute_result"
    }
   ],
   "source": [
    "p.position()"
   ]
  },
  {
   "cell_type": "code",
   "execution_count": 46,
   "metadata": {},
   "outputs": [],
   "source": [
    "def get_tiles(img):\n",
    "    tiles= []\n",
    "    for i in range(4):\n",
    "        for j in range(4):\n",
    "            x = img.copy()\n",
    "            #x = x.crop((x_screen[i*2],y_screen[j*2],x_screen[i*2+1],y_screen[j*2+1]))\n",
    "            #x.show()\n",
    "            x= x.crop((x_screen[i*2],y_screen[j*2],x_screen[i*2+1],y_screen[j*2+1]))\n",
    "            #x.show()\n",
    "            x = x.convert('L')\n",
    "            x = x.resize((60,60))\n",
    "            tiles.append(np.abs(np.asarray(x,dtype='int32')-255).copy())\n",
    "    return tiles \n",
    "tiles = get_tiles(img)"
   ]
  },
  {
   "cell_type": "code",
   "execution_count": 47,
   "metadata": {},
   "outputs": [
    {
     "name": "stderr",
     "output_type": "stream",
     "text": [
      "Using TensorFlow backend.\n"
     ]
    }
   ],
   "source": [
    "\n",
    "# coding: utf-8\n",
    "\n",
    "# In[1]:\n",
    "\n",
    "import numpy as np\n",
    "import pandas as pd\n",
    "\n",
    "\n",
    "# In[11]:\n",
    "\n",
    "import os\n",
    "from PIL import Image\n",
    "\n",
    "\n",
    "# In[62]:\n",
    "\n",
    "from keras.models import Model\n",
    "from keras.layers import Dense,Input,Conv2D,MaxPooling2D,GlobalAveragePooling2D,Activation,Dropout\n",
    "from keras.losses import binary_crossentropy\n",
    "from keras.optimizers import Adam,SGD\n",
    "\n",
    "\n",
    "# In[63]:\n",
    "\n",
    "def model():\n",
    "    inputs=l=Input((60,60,1))\n",
    "    l=Conv2D(32,(3,3),padding=\"same\",name=\"conv_1\")(l)\n",
    "    l=Activation(\"relu\",name=\"conv_act_1\")(l)\n",
    "    l=MaxPooling2D((3,3),strides=(2,2),padding=\"valid\",name=\"conv_pool1\")(l)\n",
    "    \n",
    "    \n",
    "    l=Conv2D(64,(3,3),padding=\"same\",name=\"conv_2\")(l)\n",
    "    l=Activation(\"relu\",name=\"conv_act_2\")(l)\n",
    "    l=MaxPooling2D((3,3),strides=(2,2),padding=\"valid\",name=\"conv_pool2\")(l)\n",
    "    \n",
    "    l=Conv2D(128,(3,3),padding=\"same\",name=\"conv_3\")(l)\n",
    "    l=Activation(\"relu\",name=\"conv_act_3\")(l)\n",
    "    l=GlobalAveragePooling2D()(l)\n",
    "    l=Dropout(0.5)(l)\n",
    "    \n",
    "    l=Dense(64,activation=\"relu\",name=\"d1\")(l)\n",
    "    l=Dense(26,activation=\"softmax\",name=\"d2\")(l)\n",
    "    outputs=l\n",
    "    return inputs,outputs\n",
    "    \n",
    "\n",
    "\n",
    "# In[68]:\n",
    "\n",
    "from keras.preprocessing.image import ImageDataGenerator\n",
    "\n",
    "\n",
    "\n",
    "# In[ ]:\n",
    "\n",
    "def get_ocr(tiles):\n",
    "    inputs,outputs=model()\n",
    "    mod=Model(inputs=inputs,outputs=outputs)\n",
    "    optim=Adam(1e-4)\n",
    "    mod.compile(optimizer=optim,loss=\"categorical_crossentropy\",metrics=[\"accuracy\"])\n",
    "    mod.load_weights(\"hope_true.h5\",by_name=True)\n",
    "    test=np.asarray(tiles).reshape(-1,60,60,1)\n",
    "    idg=ImageDataGenerator(featurewise_center=True,featurewise_std_normalization=True)\n",
    "    idg.fit(test)\n",
    "    \n",
    "    steps_per_epoch = int(np.ceil(len(test) / 64))\n",
    "    testing_gen = idg.flow(test,[0]*len(tiles),shuffle=False,batch_size=64)\n",
    "    pred = mod.predict_generator(testing_gen,steps=1)\n",
    "    pred = np.argmax(pred,axis=1)\n",
    "    return pred\n",
    "    \n",
    "    \n",
    "\n"
   ]
  },
  {
   "cell_type": "code",
   "execution_count": 48,
   "metadata": {
    "collapsed": true,
    "scrolled": false
   },
   "outputs": [],
   "source": [
    "def get_input():\n",
    "    img = scr()\n",
    "    tiles = get_tiles(img)\n",
    "    pred = get_ocr(tiles)\n",
    "    alpha={0:'a',1:'b',2:'c',3:'d',4:'e',5:'f',6:'g',7:'h',8:'i',9:'j',10:'k',11:'l',\n",
    "       12:'m',13:'n',14:'o',15:'p',16:'q',17:'r',18:'s',19:'t',20:'u',21:'v',22:'w',\n",
    "      23:'x',24:'y',25:'z'}\n",
    "    l=[]\n",
    "    for i in range(16):\n",
    "        l.append(alpha[int(pred[i])])\n",
    "    l = np.asarray(l).reshape(4,4).T.tolist()\n",
    "    return l"
   ]
  },
  {
   "cell_type": "code",
   "execution_count": 50,
   "metadata": {
    "collapsed": true
   },
   "outputs": [],
   "source": [
    "l=get_input()"
   ]
  },
  {
   "cell_type": "code",
   "execution_count": 51,
   "metadata": {},
   "outputs": [
    {
     "data": {
      "text/plain": [
       "[['a', 'f', 'v', 't'],\n",
       " ['s', 'e', 'l', 'e'],\n",
       " ['g', 'e', 'w', 'o'],\n",
       " ['c', 'i', 'v', 's']]"
      ]
     },
     "execution_count": 51,
     "metadata": {},
     "output_type": "execute_result"
    }
   ],
   "source": [
    "l\n"
   ]
  },
  {
   "cell_type": "code",
   "execution_count": 8,
   "metadata": {},
   "outputs": [],
   "source": [
    "tiles = get_tiles(img)"
   ]
  },
  {
   "cell_type": "code",
   "execution_count": 10,
   "metadata": {},
   "outputs": [],
   "source": [
    "import matplotlib.pyplot as plt"
   ]
  },
  {
   "cell_type": "code",
   "execution_count": 13,
   "metadata": {},
   "outputs": [
    {
     "data": {
      "image/png": "[encoded data removed]",
      "text/plain": [
       "<matplotlib.figure.Figure at 0x202539c21d0>"
      ]
     },
     "metadata": {},
     "output_type": "display_data"
    }
   ],
   "source": [
    "plt.imshow(tiles[2])\n",
    "plt.show()"
   ]
  },
  {
   "cell_type": "code",
   "execution_count": 14,
   "metadata": {},
   "outputs": [
    {
     "data": {
      "text/plain": [
       "(1093, 388)"
      ]
     },
     "execution_count": 14,
     "metadata": {},
     "output_type": "execute_result"
    }
   ],
   "source": [
    "p.position()"
   ]
  },
  {
   "cell_type": "code",
   "execution_count": null,
   "metadata": {
    "collapsed": true
   },
   "outputs": [],
   "source": []
  }
 ],
 "metadata": {
  "kernelspec": {
   "display_name": "Python 3",
   "language": "python",
   "name": "python3"
  },
  "language_info": {
   "codemirror_mode": {
    "name": "ipython",
    "version": 3
   },
   "file_extension": ".py",
   "mimetype": "text/x-python",
   "name": "python",
   "nbconvert_exporter": "python",
   "pygments_lexer": "ipython3",
   "version": "3.5.3"
  }
 },
 "nbformat": 4,
 "nbformat_minor": 1
}
