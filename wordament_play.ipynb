{
 "cells": [
  {
   "cell_type": "code",
   "execution_count": 1,
   "metadata": {
    "collapsed": true
   },
   "outputs": [],
   "source": [
    "import numpy as np\n",
    "import pandas as pd\n",
    "import datetime\n",
    "import copy"
   ]
  },
  {
   "cell_type": "code",
   "execution_count": 2,
   "metadata": {
    "collapsed": true
   },
   "outputs": [],
   "source": [
    "index=[[-1,-1],[1,1],[1,-1],[-1,1],[0,-1],[0,1],[-1,0],[1,0]]"
   ]
  },
  {
   "cell_type": "code",
   "execution_count": 3,
   "metadata": {
    "collapsed": true
   },
   "outputs": [],
   "source": [
    "def init():\n",
    "    data1=pd.read_csv(\"./atleast_len/3.csv\")\n",
    "    data2=pd.read_csv(\"./equal_len/3.csv\")\n",
    "    data1=data1.iloc[:,1].values.tolist()\n",
    "    data2=data2.iloc[:,1].values.tolist()\n",
    "    words_3=[]\n",
    "    for i in range(4):\n",
    "        for j in range(4):\n",
    "            u=[[i,j]]\n",
    "            s = copy.deepcopy(u)\n",
    "            \n",
    "            for x in range(len(index)):\n",
    "                m=i+index[x][0]\n",
    "                n=j+index[x][1]\n",
    "                if( (m>=0 and m<=3) and (n>=0 and n<=3)):\n",
    "                    s.append([m,n])\n",
    "                    for y in range(len(index)):\n",
    "                        p=m+index[y][0]\n",
    "                        q=n+index[y][1]\n",
    "                        if( (p>=0 and p<=3) and (q>=0 and q<=3) and (p!=i or q!=j)):\n",
    "                            s.append([p,q])\n",
    "                            words_3.append(copy.deepcopy(s))\n",
    "                            s.remove([p,q])\n",
    "                    s.remove([m,n])\n",
    "    return words_3\n",
    "                    \n",
    "                \n",
    "                \n",
    "                \n",
    "        \n",
    "        "
   ]
  },
  {
   "cell_type": "code",
   "execution_count": 4,
   "metadata": {
    "collapsed": true
   },
   "outputs": [],
   "source": [
    "def find_words(words_list):\n",
    "    words=[]\n",
    "    for i in range(len(words_list)):\n",
    "        p=words_list[i][-1][0]\n",
    "        q=words_list[i][-1][1]\n",
    "        for x in range(len(index)):\n",
    "            m=p+index[x][0]\n",
    "            n=q+index[x][1]\n",
    "            if ([m,n] not in words_list[i] and (m>=0 and m<=3) and (n>=0 and n<=3)):\n",
    "                l=copy.deepcopy(words_list[i])\n",
    "                l.append([m,n])\n",
    "                words.append(l)\n",
    "    return words\n",
    "        "
   ]
  },
  {
   "cell_type": "code",
   "execution_count": 5,
   "metadata": {
    "collapsed": true
   },
   "outputs": [],
   "source": [
    "def check_words(words,l):\n",
    "    length=len(words[0])\n",
    "    print(length)\n",
    "    data1=pd.read_csv(\"./atleast_len/\"+str(length)+\".csv\")\n",
    "    data2=pd.read_csv(\"./equal_len/\"+str(length)+\".csv\")\n",
    "    data1=data1.iloc[:,1].values.tolist()\n",
    "    data2=data2.iloc[:,1].values.tolist()\n",
    "    ans=[]\n",
    "    non_ans=[]\n",
    "    \n",
    "    set_words=[]\n",
    "    for i in range(len(words)):\n",
    "        s=\"\"\n",
    "        for j in range(length):\n",
    "            s=s+str(l[words[i][j][0]][words[i][j][1]])\n",
    "        #print(s)\n",
    "        if(s in data2 and s not in set_words):\n",
    "            \n",
    "            set_words.append(s)\n",
    "            ans.append(words[i])\n",
    "        if(s in data1):\n",
    "            non_ans.append(words[i])\n",
    "    return ans,non_ans\n",
    "    \n",
    "    "
   ]
  },
  {
   "cell_type": "code",
   "execution_count": 6,
   "metadata": {
    "collapsed": true
   },
   "outputs": [],
   "source": [
    "def calculate(words_3,l):\n",
    "    total_words=[]\n",
    "    words=copy.deepcopy(words_3)\n",
    "    for i in range(4,15):\n",
    "        #print(i)\n",
    "        k=find_words(words)\n",
    "        if(len(k)==0):\n",
    "            break\n",
    "        w,nw=check_words(k,l)\n",
    "        total_words.append(w)\n",
    "        words=nw\n",
    "    return total_words\n",
    "        \n",
    "        \n",
    "    "
   ]
  },
  {
   "cell_type": "code",
   "execution_count": 7,
   "metadata": {
    "collapsed": true
   },
   "outputs": [],
   "source": [
    "def find_ans(l):\n",
    "    start=datetime.datetime.now().time()\n",
    "    words_init=init()\n",
    "    #print(words_init)\n",
    "    words_3,words_more_3=check_words(words_init,l)\n",
    "    total_words=calculate(words_more_3,l)\n",
    "    end=datetime.datetime.now().time()\n",
    "    print(start,end)\n",
    "    return words_3,total_words\n",
    "    "
   ]
  },
  {
   "cell_type": "code",
   "execution_count": 8,
   "metadata": {
    "collapsed": true
   },
   "outputs": [],
   "source": [
    "def give_words(words):\n",
    "    act_words=[]\n",
    "    for i in range(len(words)):\n",
    "        for j in range(len(words[i])):\n",
    "            s=\"\"\n",
    "            for k in range(len(words[i][j])):\n",
    "                s=s+l[words[i][j][k][0]][words[i][j][k][1]]\n",
    "            act_words.append(s)\n",
    "    return act_words"
   ]
  },
  {
   "cell_type": "code",
   "execution_count": 9,
   "metadata": {
    "collapsed": true
   },
   "outputs": [],
   "source": [
    "import pyautogui as p\n",
    "x_axis = [1139,1249,1360,1470]\n",
    "y_axis = [439,548,651,767]\n",
    " \n",
    "def do_click(word):\n",
    "    for i in range(len(word)):\n",
    "        p.moveTo(x_axis[int(word[i][1])],y_axis[int(word[i][0])])\n",
    "        p.mouseDown(button='left')\n",
    "    p.mouseUp()"
   ]
  },
  {
   "cell_type": "code",
   "execution_count": 10,
   "metadata": {
    "collapsed": true
   },
   "outputs": [],
   "source": [
    "def do_words(words_len_3,total_words):\n",
    "    flag=0\n",
    "    for i in range(len(total_words)-1,-1,-1):\n",
    "        for j in range(len(total_words[i])):\n",
    "            if(p.position()[0]<600):\n",
    "                flag=1\n",
    "                break\n",
    "            do_click(total_words[i][j])\n",
    "        if(flag==1):\n",
    "            break\n",
    "    do_words_three(words_len_3)\n",
    "def do_words_three(words_len_3):\n",
    "    for i in range(len(words_len_3)):\n",
    "        if(p.position()[0]<600):\n",
    "            break\n",
    "        do_click(words_len_3[i])"
   ]
  },
  {
   "cell_type": "code",
   "execution_count": 11,
   "metadata": {},
   "outputs": [
    {
     "name": "stderr",
     "output_type": "stream",
     "text": [
      "Using TensorFlow backend.\n"
     ]
    }
   ],
   "source": [
    "from wordament_input_1 import get_input"
   ]
  },
  {
   "cell_type": "code",
   "execution_count": 18,
   "metadata": {
    "collapsed": true
   },
   "outputs": [],
   "source": [
    "def play():\n",
    "    p.PAUSE=.5\n",
    "    p.click(1524,120)\n",
    "    time.sleep(2)\n",
    "    start = datetime.datetime.now().time()\n",
    "    print(\"start ocr\",start)\n",
    "    l= get_input()\n",
    "    \n",
    "    end = datetime.datetime.now().time()\n",
    "    print(\"end ocr\",end)\n",
    "    print(l)\n",
    "    words_len_3,total_words=find_ans(l)\n",
    "    p.PAUSE=.03\n",
    "    do_words(words_len_3,total_words)"
   ]
  },
  {
   "cell_type": "code",
   "execution_count": 21,
   "metadata": {},
   "outputs": [
    {
     "name": "stdout",
     "output_type": "stream",
     "text": [
      "start ocr 20:42:04.385557\n",
      "end ocr 20:42:05.712016\n",
      "[['a', 't', 's', 'n'], ['i', 'l', 'm', 'a'], ['h', 's', 'e', 'i'], ['n', 't', 's', 'o']]\n",
      "3\n",
      "4\n",
      "5\n",
      "6\n",
      "7\n",
      "8\n",
      "9\n",
      "20:42:05.712516 20:42:11.012298\n"
     ]
    }
   ],
   "source": [
    "play()"
   ]
  },
  {
   "cell_type": "code",
   "execution_count": 41,
   "metadata": {},
   "outputs": [
    {
     "data": {
      "text/plain": [
       "(1524, 420)"
      ]
     },
     "execution_count": 41,
     "metadata": {},
     "output_type": "execute_result"
    }
   ],
   "source": [
    "p.position()"
   ]
  },
  {
   "cell_type": "code",
   "execution_count": 14,
   "metadata": {
    "collapsed": true
   },
   "outputs": [],
   "source": [
    "import time"
   ]
  },
  {
   "cell_type": "code",
   "execution_count": 21,
   "metadata": {
    "collapsed": true
   },
   "outputs": [],
   "source": [
    "p.PAUSE=.5"
   ]
  },
  {
   "cell_type": "code",
   "execution_count": null,
   "metadata": {
    "collapsed": true
   },
   "outputs": [],
   "source": []
  }
 ],
 "metadata": {
  "kernelspec": {
   "display_name": "Python 2",
   "language": "python",
   "name": "python2"
  },
  "language_info": {
   "codemirror_mode": {
    "name": "ipython",
    "version": 3
   },
   "file_extension": ".py",
   "mimetype": "text/x-python",
   "name": "python",
   "nbconvert_exporter": "python",
   "pygments_lexer": "ipython3",
   "version": "3.5.3"
  }
 },
 "nbformat": 4,
 "nbformat_minor": 2
}
