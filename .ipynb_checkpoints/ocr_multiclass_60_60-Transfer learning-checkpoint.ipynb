{
 "cells": [
  {
   "cell_type": "code",
   "execution_count": 1,
   "metadata": {
    "collapsed": true
   },
   "outputs": [],
   "source": [
    "import numpy as np\n",
    "import pandas as pd"
   ]
  },
  {
   "cell_type": "code",
   "execution_count": 11,
   "metadata": {
    "collapsed": true
   },
   "outputs": [],
   "source": [
    "import os\n",
    "from PIL import Image"
   ]
  },
  {
   "cell_type": "code",
   "execution_count": 3,
   "metadata": {
    "collapsed": true
   },
   "outputs": [],
   "source": [
    "data1=pd.read_csv(\"/home/saloni/Machine-learning/wordament/fonts/ARIAL.csv\")\n",
    "#data2=pd.read_csv(\"/home/saloni/Machine-learning/wordament/fonts/COURIER.csv\")\n",
    "#data3=pd.read_csv(\"/home/saloni/Machine-learning/wordament/fonts/TIMES.csv\")\n",
    "#data4=pd.read_csv(\"/home/saloni/Machine-learning/wordament/fonts/CALIBRI.csv\")\n",
    "#data5=pd.read_csv(\"/home/saloni/Machine-learning/wordament/fonts/ROMAN.csv\")"
   ]
  },
  {
   "cell_type": "code",
   "execution_count": 54,
   "metadata": {
    "collapsed": true
   },
   "outputs": [],
   "source": [
    "folder=\"/home/saloni/Machine-learning/wordament/testing_data\""
   ]
  },
  {
   "cell_type": "code",
   "execution_count": 55,
   "metadata": {
    "collapsed": true
   },
   "outputs": [],
   "source": [
    "def data_read(folder):\n",
    "    test_input=[]\n",
    "    test_output=[]\n",
    "    for i in os.listdir(folder):\n",
    "        im=Image.open(os.path.join(folder,i))\n",
    "        im=im.resize((60,60))\n",
    "        im=im.convert('L')\n",
    "        im.load()\n",
    "        test_input.append(np.abs(np.asarray(im,dtype='int32')-255))\n",
    "        test_output.append(ord(i[-5])-65)\n",
    "    return test_input,test_output\n",
    "    \n",
    "    "
   ]
  },
  {
   "cell_type": "code",
   "execution_count": 56,
   "metadata": {
    "collapsed": true
   },
   "outputs": [],
   "source": [
    "test_input,test_output=data_read(folder)"
   ]
  },
  {
   "cell_type": "code",
   "execution_count": 57,
   "metadata": {
    "collapsed": false,
    "scrolled": false
   },
   "outputs": [
    {
     "data": {
      "text/plain": [
       "array([ 0,  1,  2,  3,  4,  5,  6,  7,  8, 10, 11, 12, 13, 14, 15, 17, 18,\n",
       "       19, 20, 21, 22, 24])"
      ]
     },
     "execution_count": 57,
     "metadata": {},
     "output_type": "execute_result"
    }
   ],
   "source": [
    "(np.unique(test_output))"
   ]
  },
  {
   "cell_type": "code",
   "execution_count": 58,
   "metadata": {
    "collapsed": false
   },
   "outputs": [
    {
     "name": "stdout",
     "output_type": "stream",
     "text": [
      "(343,)\n"
     ]
    }
   ],
   "source": [
    "test_output=np.array(test_output)\n",
    "print(test_output.shape)"
   ]
  },
  {
   "cell_type": "code",
   "execution_count": 59,
   "metadata": {
    "collapsed": true
   },
   "outputs": [],
   "source": [
    "from sklearn.preprocessing import OneHotEncoder\n",
    "enc=OneHotEncoder(26)\n",
    "test_output=test_output.reshape(-1,1)\n",
    "test_output_enc=enc.fit_transform(test_output).toarray()"
   ]
  },
  {
   "cell_type": "code",
   "execution_count": 60,
   "metadata": {
    "collapsed": true
   },
   "outputs": [],
   "source": [
    "test_input=np.array(test_input)"
   ]
  },
  {
   "cell_type": "code",
   "execution_count": 61,
   "metadata": {
    "collapsed": false
   },
   "outputs": [
    {
     "data": {
      "text/plain": [
       "(343, 26)"
      ]
     },
     "execution_count": 61,
     "metadata": {},
     "output_type": "execute_result"
    }
   ],
   "source": [
    "test_output_enc.shape"
   ]
  },
  {
   "cell_type": "code",
   "execution_count": 104,
   "metadata": {
    "collapsed": false
   },
   "outputs": [
    {
     "data": {
      "image/png": "[encoded data removed]",
      "text/plain": [
       "<matplotlib.figure.Figure at 0x7f3c9816bfd0>"
      ]
     },
     "metadata": {},
     "output_type": "display_data"
    }
   ],
   "source": [
    "import matplotlib.pyplot as plt\n",
    "plt.imshow(X_train[112].reshape(60,60))\n",
    "plt.show()"
   ]
  },
  {
   "cell_type": "code",
   "execution_count": 81,
   "metadata": {
    "collapsed": false
   },
   "outputs": [
    {
     "data": {
      "image/png": "[encoded data removed]",
      "text/plain": [
       "<matplotlib.figure.Figure at 0x7f3c98434898>"
      ]
     },
     "metadata": {},
     "output_type": "display_data"
    }
   ],
   "source": [
    "import matplotlib.pyplot as plt\n",
    "plt.imshow(test_input[0].reshape(60,60))\n",
    "plt.show()"
   ]
  },
  {
   "cell_type": "code",
   "execution_count": 62,
   "metadata": {
    "collapsed": true
   },
   "outputs": [],
   "source": [
    "from keras.models import Model\n",
    "from keras.layers import Dense,Input,Conv2D,MaxPooling2D,GlobalAveragePooling2D,Activation,Dropout\n",
    "from keras.losses import binary_crossentropy\n",
    "from keras.optimizers import Adam,SGD"
   ]
  },
  {
   "cell_type": "code",
   "execution_count": 63,
   "metadata": {
    "collapsed": true
   },
   "outputs": [],
   "source": [
    "def model():\n",
    "    inputs=l=Input((60,60,1))\n",
    "    l=Conv2D(32,(3,3),padding=\"same\",name=\"conv_1\")(l)\n",
    "    l=Activation(\"relu\",name=\"conv_act_1\")(l)\n",
    "    l=MaxPooling2D((3,3),strides=(2,2),padding=\"valid\",name=\"conv_pool1\")(l)\n",
    "    \n",
    "    \n",
    "    l=Conv2D(64,(3,3),padding=\"same\",name=\"conv_2\")(l)\n",
    "    l=Activation(\"relu\",name=\"conv_act_2\")(l)\n",
    "    l=MaxPooling2D((3,3),strides=(2,2),padding=\"valid\",name=\"conv_pool2\")(l)\n",
    "    \n",
    "    l=Conv2D(128,(3,3),padding=\"same\",name=\"conv_3\")(l)\n",
    "    l=Activation(\"relu\",name=\"conv_act_3\")(l)\n",
    "    l=GlobalAveragePooling2D()(l)\n",
    "    l=Dropout(0.5)(l)\n",
    "    \n",
    "    l=Dense(64,activation=\"relu\",name=\"d1\")(l)\n",
    "    l=Dense(26,activation=\"softmax\",name=\"d2\")(l)\n",
    "    outputs=l\n",
    "    return inputs,outputs\n",
    "    "
   ]
  },
  {
   "cell_type": "code",
   "execution_count": 64,
   "metadata": {
    "collapsed": false
   },
   "outputs": [
    {
     "name": "stdout",
     "output_type": "stream",
     "text": [
      "_________________________________________________________________\n",
      "Layer (type)                 Output Shape              Param #   \n",
      "=================================================================\n",
      "input_3 (InputLayer)         (None, 60, 60, 1)         0         \n",
      "_________________________________________________________________\n",
      "conv_1 (Conv2D)              (None, 60, 60, 32)        320       \n",
      "_________________________________________________________________\n",
      "conv_act_1 (Activation)      (None, 60, 60, 32)        0         \n",
      "_________________________________________________________________\n",
      "conv_pool1 (MaxPooling2D)    (None, 29, 29, 32)        0         \n",
      "_________________________________________________________________\n",
      "conv_2 (Conv2D)              (None, 29, 29, 64)        18496     \n",
      "_________________________________________________________________\n",
      "conv_act_2 (Activation)      (None, 29, 29, 64)        0         \n",
      "_________________________________________________________________\n",
      "conv_pool2 (MaxPooling2D)    (None, 14, 14, 64)        0         \n",
      "_________________________________________________________________\n",
      "conv_3 (Conv2D)              (None, 14, 14, 128)       73856     \n",
      "_________________________________________________________________\n",
      "conv_act_3 (Activation)      (None, 14, 14, 128)       0         \n",
      "_________________________________________________________________\n",
      "global_average_pooling2d_3 ( (None, 128)               0         \n",
      "_________________________________________________________________\n",
      "dropout_3 (Dropout)          (None, 128)               0         \n",
      "_________________________________________________________________\n",
      "d1 (Dense)                   (None, 64)                8256      \n",
      "_________________________________________________________________\n",
      "d2 (Dense)                   (None, 26)                1690      \n",
      "=================================================================\n",
      "Total params: 102,618\n",
      "Trainable params: 102,618\n",
      "Non-trainable params: 0\n",
      "_________________________________________________________________\n"
     ]
    }
   ],
   "source": [
    "inputs,outputs=model()\n",
    "mod=Model(inputs=inputs,outputs=outputs)\n",
    "optim=Adam(1e-4)\n",
    "mod.compile(optimizer=optim,loss=\"categorical_crossentropy\",metrics=[\"accuracy\"])\n",
    "mod.summary()"
   ]
  },
  {
   "cell_type": "code",
   "execution_count": 65,
   "metadata": {
    "collapsed": true
   },
   "outputs": [],
   "source": [
    "from sklearn.model_selection import train_test_split as tts\n",
    "X_train,X_test,y_train,y_test=tts(test_input,test_output_enc,test_size=0.1,random_state=42)"
   ]
  },
  {
   "cell_type": "code",
   "execution_count": 66,
   "metadata": {
    "collapsed": true
   },
   "outputs": [],
   "source": [
    "X_train=X_train.reshape(-1,60,60,1)\n",
    "X_test=X_test.reshape(-1,60,60,1)"
   ]
  },
  {
   "cell_type": "code",
   "execution_count": 67,
   "metadata": {
    "collapsed": false
   },
   "outputs": [
    {
     "name": "stdout",
     "output_type": "stream",
     "text": [
      "(308, 60, 60, 1) (35, 60, 60, 1) (308, 26) (35, 26)\n"
     ]
    }
   ],
   "source": [
    "print(X_train.shape,X_test.shape,y_train.shape,y_test.shape)"
   ]
  },
  {
   "cell_type": "code",
   "execution_count": 68,
   "metadata": {
    "collapsed": true
   },
   "outputs": [],
   "source": [
    "from keras.preprocessing.image import ImageDataGenerator\n",
    "idg=ImageDataGenerator(featurewise_center=True,featurewise_std_normalization=True)\n",
    "idg.fit(X_train)\n",
    "batch_size=64*2\n",
    "steps_per_epoch = int(np.ceil(len(X_train) / batch_size))\n",
    "validation_steps = int(np.ceil(len(X_test) / batch_size))\n",
    "train_gen = idg.flow(X_train,y_train,batch_size=batch_size,seed=45)\n",
    "test_gen = idg.flow(X_test,y_test,batch_size=batch_size,seed=45)\n",
    "\n"
   ]
  },
  {
   "cell_type": "code",
   "execution_count": 69,
   "metadata": {
    "collapsed": true
   },
   "outputs": [],
   "source": [
    "mod.load_weights(\"/home/saloni/Machine-learning/wordament/weights/ocr_multiclass_dropout_weights_60*60.h5\",by_name=True)"
   ]
  },
  {
   "cell_type": "code",
   "execution_count": 70,
   "metadata": {
    "collapsed": false
   },
   "outputs": [
    {
     "name": "stdout",
     "output_type": "stream",
     "text": [
      "Epoch 1/20\n",
      "3/3 [==============================] - 4s 1s/step - loss: 2.9894 - acc: 0.4195 - val_loss: 1.4146 - val_acc: 0.6000\n",
      "Epoch 2/20\n",
      "3/3 [==============================] - 3s 1s/step - loss: 1.9987 - acc: 0.4939 - val_loss: 0.7797 - val_acc: 0.7714\n",
      "Epoch 3/20\n",
      "3/3 [==============================] - 3s 1s/step - loss: 1.4490 - acc: 0.6056 - val_loss: 0.4903 - val_acc: 0.8571\n",
      "Epoch 4/20\n",
      "3/3 [==============================] - 3s 1s/step - loss: 1.0381 - acc: 0.6584 - val_loss: 0.3916 - val_acc: 0.8571\n",
      "Epoch 5/20\n",
      "3/3 [==============================] - 4s 1s/step - loss: 1.0544 - acc: 0.6689 - val_loss: 0.4021 - val_acc: 0.8571\n",
      "Epoch 6/20\n",
      "3/3 [==============================] - 4s 1s/step - loss: 0.7722 - acc: 0.7362 - val_loss: 0.4295 - val_acc: 0.8857\n",
      "Epoch 7/20\n",
      "3/3 [==============================] - 4s 1s/step - loss: 0.8620 - acc: 0.7444 - val_loss: 0.4383 - val_acc: 0.8857\n",
      "Epoch 8/20\n",
      "3/3 [==============================] - 3s 1s/step - loss: 0.9341 - acc: 0.7358 - val_loss: 0.4091 - val_acc: 0.8857\n",
      "Epoch 9/20\n",
      "3/3 [==============================] - 3s 1s/step - loss: 0.7205 - acc: 0.7754 - val_loss: 0.3612 - val_acc: 0.8857\n",
      "Epoch 10/20\n",
      "3/3 [==============================] - 3s 1s/step - loss: 0.8390 - acc: 0.7358 - val_loss: 0.3055 - val_acc: 0.9143\n",
      "Epoch 11/20\n",
      "3/3 [==============================] - 3s 1s/step - loss: 0.6636 - acc: 0.7756 - val_loss: 0.2601 - val_acc: 0.9143\n",
      "Epoch 12/20\n",
      "3/3 [==============================] - 3s 1s/step - loss: 0.7081 - acc: 0.7636 - val_loss: 0.2293 - val_acc: 0.9429\n",
      "Epoch 13/20\n",
      "3/3 [==============================] - 3s 1s/step - loss: 0.6660 - acc: 0.8027 - val_loss: 0.2074 - val_acc: 0.9714\n",
      "Epoch 14/20\n",
      "3/3 [==============================] - 4s 1s/step - loss: 0.5740 - acc: 0.8026 - val_loss: 0.1929 - val_acc: 0.9714\n",
      "Epoch 15/20\n",
      "3/3 [==============================] - 3s 1s/step - loss: 0.4554 - acc: 0.8280 - val_loss: 0.1822 - val_acc: 0.9714\n",
      "Epoch 16/20\n",
      "3/3 [==============================] - 3s 1s/step - loss: 0.5280 - acc: 0.8252 - val_loss: 0.1748 - val_acc: 0.9714\n",
      "Epoch 17/20\n",
      "3/3 [==============================] - 3s 1s/step - loss: 0.5035 - acc: 0.8363 - val_loss: 0.1708 - val_acc: 0.9714\n",
      "Epoch 18/20\n",
      "3/3 [==============================] - 3s 1s/step - loss: 0.5456 - acc: 0.7776 - val_loss: 0.1714 - val_acc: 0.9714\n",
      "Epoch 19/20\n",
      "3/3 [==============================] - 4s 1s/step - loss: 0.3926 - acc: 0.8558 - val_loss: 0.1731 - val_acc: 0.9714\n",
      "Epoch 20/20\n",
      "3/3 [==============================] - 3s 1s/step - loss: 0.4566 - acc: 0.8529 - val_loss: 0.1725 - val_acc: 0.9714\n"
     ]
    },
    {
     "data": {
      "text/plain": [
       "<keras.callbacks.History at 0x7fc80e29cbe0>"
      ]
     },
     "execution_count": 70,
     "metadata": {},
     "output_type": "execute_result"
    }
   ],
   "source": [
    "mod.fit_generator(train_gen, steps_per_epoch=steps_per_epoch,epochs=20, verbose=1,\n",
    "                  validation_data=test_gen, validation_steps=validation_steps)"
   ]
  },
  {
   "cell_type": "code",
   "execution_count": 122,
   "metadata": {
    "collapsed": true
   },
   "outputs": [],
   "source": [
    "mod.save_weights(\"/home/saloni/Machine-learning/wordament/weights/ocr_multiclass_dropout_weights_60*60.h5\")"
   ]
  },
  {
   "cell_type": "code",
   "execution_count": 88,
   "metadata": {
    "collapsed": true
   },
   "outputs": [],
   "source": [
    "mod.load_weights(\"/home/saloni/Machine-learning/wordament/weights/ocr_multiclass_dropout_weights.h5\")"
   ]
  },
  {
   "cell_type": "code",
   "execution_count": 72,
   "metadata": {
    "collapsed": false
   },
   "outputs": [
    {
     "data": {
      "text/plain": [
       "[0.17252726852893829, 0.97142857313156128]"
      ]
     },
     "execution_count": 72,
     "metadata": {},
     "output_type": "execute_result"
    }
   ],
   "source": [
    "mod.evaluate_generator(test_gen)"
   ]
  },
  {
   "cell_type": "code",
   "execution_count": 124,
   "metadata": {
    "collapsed": true
   },
   "outputs": [],
   "source": [
    "pred=mod.predict(X_test)"
   ]
  },
  {
   "cell_type": "code",
   "execution_count": 73,
   "metadata": {
    "collapsed": true
   },
   "outputs": [],
   "source": [
    "test_folder=\"/home/saloni/Machine-learning/wordament/val_test\""
   ]
  },
  {
   "cell_type": "code",
   "execution_count": 74,
   "metadata": {
    "collapsed": true,
    "scrolled": true
   },
   "outputs": [],
   "source": [
    "val_input,val_output=data_read(test_folder)"
   ]
  },
  {
   "cell_type": "code",
   "execution_count": 76,
   "metadata": {
    "collapsed": true
   },
   "outputs": [],
   "source": [
    "val_input=np.array(val_input)\n",
    "val_output=np.array(val_output)\n",
    "val_output=val_output.reshape(-1,1)\n",
    "val_output_enc=enc.transform(val_output).toarray()"
   ]
  },
  {
   "cell_type": "code",
   "execution_count": 128,
   "metadata": {
    "collapsed": true
   },
   "outputs": [],
   "source": [
    "idg_test=ImageDataGenerator(featurewise_center=True,featurewise_std_normalization=True)\n",
    "#idg_test.fit(np.asarray(val_input).reshape(-1,60,60,1))"
   ]
  },
  {
   "cell_type": "code",
   "execution_count": 81,
   "metadata": {
    "collapsed": true
   },
   "outputs": [],
   "source": [
    "testing_gen = idg.flow(np.asarray(val_input).reshape(-1,60,60,1),val_output_enc,batch_size=batch_size,seed=45,shuffle=False)"
   ]
  },
  {
   "cell_type": "code",
   "execution_count": 82,
   "metadata": {
    "collapsed": false
   },
   "outputs": [
    {
     "data": {
      "text/plain": [
       "[0.085993371903896332, 1.0]"
      ]
     },
     "execution_count": 82,
     "metadata": {},
     "output_type": "execute_result"
    }
   ],
   "source": [
    "mod.evaluate_generator(testing_gen)"
   ]
  },
  {
   "cell_type": "code",
   "execution_count": 83,
   "metadata": {
    "collapsed": false,
    "scrolled": true
   },
   "outputs": [
    {
     "data": {
      "text/plain": [
       "array([17, 18, 14, 11,  0, 14,  0,  4, 18,  3,  6, 18,  4, 14, 24, 13, 12,\n",
       "        2,  7,  4, 17])"
      ]
     },
     "execution_count": 83,
     "metadata": {},
     "output_type": "execute_result"
    }
   ],
   "source": [
    "np.argmax(mod.predict_generator(testing_gen),axis=1)"
   ]
  },
  {
   "cell_type": "code",
   "execution_count": 80,
   "metadata": {
    "collapsed": false
   },
   "outputs": [
    {
     "data": {
      "text/plain": [
       "array([[17],\n",
       "       [18],\n",
       "       [14],\n",
       "       [11],\n",
       "       [ 0],\n",
       "       [14],\n",
       "       [ 0],\n",
       "       [ 4],\n",
       "       [18],\n",
       "       [ 3],\n",
       "       [ 6],\n",
       "       [18],\n",
       "       [ 4],\n",
       "       [14],\n",
       "       [24],\n",
       "       [13],\n",
       "       [12],\n",
       "       [ 2],\n",
       "       [ 7],\n",
       "       [ 4],\n",
       "       [17]])"
      ]
     },
     "execution_count": 80,
     "metadata": {},
     "output_type": "execute_result"
    }
   ],
   "source": [
    "val_output"
   ]
  },
  {
   "cell_type": "code",
   "execution_count": 84,
   "metadata": {
    "collapsed": true
   },
   "outputs": [],
   "source": [
    "mod.save_weights(\"/home/saloni/Machine-learning/wordament/weights/ocr_multiclass_dropout_weights_60*60_TransferLearning.h5\")"
   ]
  },
  {
   "cell_type": "code",
   "execution_count": null,
   "metadata": {
    "collapsed": true
   },
   "outputs": [],
   "source": []
  }
 ],
 "metadata": {
  "kernelspec": {
   "display_name": "Python 2",
   "language": "python",
   "name": "python2"
  },
  "language_info": {
   "codemirror_mode": {
    "name": "ipython",
    "version": 2
   },
   "file_extension": ".py",
   "mimetype": "text/x-python",
   "name": "python",
   "nbconvert_exporter": "python",
   "pygments_lexer": "ipython2",
   "version": "2.7.10"
  }
 },
 "nbformat": 4,
 "nbformat_minor": 2
}
