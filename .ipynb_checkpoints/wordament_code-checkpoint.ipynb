{
 "cells": [
  {
   "cell_type": "code",
   "execution_count": 1,
   "metadata": {
    "collapsed": true
   },
   "outputs": [],
   "source": [
    "import numpy as np\n",
    "import pandas as pd\n",
    "import datetime"
   ]
  },
  {
   "cell_type": "code",
   "execution_count": 35,
   "metadata": {
    "collapsed": true
   },
   "outputs": [],
   "source": [
    "l=[['a','w','s','n'],\n",
    "   ['e','o','e','l'],\n",
    "   ['e','r','i','a'],\n",
    "   ['b','t','f','y']]"
   ]
  },
  {
   "cell_type": "code",
   "execution_count": 36,
   "metadata": {
    "collapsed": true
   },
   "outputs": [],
   "source": [
    "index=[[-1,-1],[1,1],[1,-1],[-1,1],[0,-1],[0,1],[-1,0],[1,0]]"
   ]
  },
  {
   "cell_type": "code",
   "execution_count": 37,
   "metadata": {
    "collapsed": true
   },
   "outputs": [],
   "source": [
    "def init():\n",
    "    data1=pd.read_csv(\"./atleast_len/3.csv\")\n",
    "    data2=pd.read_csv(\"./equal_len/3.csv\")\n",
    "    data1=data1.iloc[:,1].values.tolist()\n",
    "    data2=data2.iloc[:,1].values.tolist()\n",
    "    words_3=[]\n",
    "    for i in range(4):\n",
    "        for j in range(4):\n",
    "            u=[[i,j]]\n",
    "            s=u.copy()\n",
    "            for x in range(len(index)):\n",
    "                m=i+index[x][0]\n",
    "                n=j+index[x][1]\n",
    "                if( (m>=0 and m<=3) and (n>=0 and n<=3)):\n",
    "                    s.append([m,n])\n",
    "                    for y in range(len(index)):\n",
    "                        p=m+index[y][0]\n",
    "                        q=n+index[y][1]\n",
    "                        if( (p>=0 and p<=3) and (q>=0 and q<=3) and (p!=i or q!=j)):\n",
    "                            s.append([p,q])\n",
    "                            words_3.append(s.copy())\n",
    "                            s.remove([p,q])\n",
    "                    s.remove([m,n])\n",
    "    return words_3\n",
    "                    \n",
    "                \n",
    "                \n",
    "                \n",
    "        \n",
    "        "
   ]
  },
  {
   "cell_type": "code",
   "execution_count": 38,
   "metadata": {
    "collapsed": true
   },
   "outputs": [],
   "source": [
    "def find_words(words_list):\n",
    "    words=[]\n",
    "    for i in range(len(words_list)):\n",
    "        p=words_list[i][-1][0]\n",
    "        q=words_list[i][-1][1]\n",
    "        for x in range(len(index)):\n",
    "            m=p+index[x][0]\n",
    "            n=q+index[x][1]\n",
    "            if ([m,n] not in words_list[i] and (m>=0 and m<=3) and (n>=0 and n<=3)):\n",
    "                l=words_list[i].copy()\n",
    "                l.append([m,n])\n",
    "                words.append(l)\n",
    "    return words\n",
    "        "
   ]
  },
  {
   "cell_type": "code",
   "execution_count": 39,
   "metadata": {
    "collapsed": true
   },
   "outputs": [],
   "source": [
    "def check_words(words):\n",
    "    length=len(words[0])\n",
    "    print(length)\n",
    "    data1=pd.read_csv(\"/home/saloni/Machine-learning/wordament/new/atleast_len/\"+str(length)+\".csv\")\n",
    "    data2=pd.read_csv(\"/home/saloni/Machine-learning/wordament/new/equal_len/\"+str(length)+\".csv\")\n",
    "    data1=data1.iloc[:,1].values.tolist()\n",
    "    data2=data2.iloc[:,1].values.tolist()\n",
    "    ans=[]\n",
    "    non_ans=[]\n",
    "    for i in range(len(words)):\n",
    "        s=\"\"\n",
    "        for j in range(length):\n",
    "            s=s+str(l[words[i][j][0]][words[i][j][1]])\n",
    "        #print(s)\n",
    "        if(s in data2):\n",
    "            ans.append(s)\n",
    "        if(s in data1):\n",
    "            non_ans.append(words[i])\n",
    "    return set(ans),non_ans\n",
    "    \n",
    "    "
   ]
  },
  {
   "cell_type": "code",
   "execution_count": 40,
   "metadata": {
    "collapsed": true
   },
   "outputs": [],
   "source": [
    "def calculate(words_3):\n",
    "    total_words=[]\n",
    "    words=words_3.copy()\n",
    "    for i in range(4,15):\n",
    "        #print(i)\n",
    "        k=find_words(words)\n",
    "        if(len(k)==0):\n",
    "            break\n",
    "        w,nw=check_words(k)\n",
    "        total_words.append(w)\n",
    "        words=nw\n",
    "    return total_words\n",
    "        \n",
    "        \n",
    "    "
   ]
  },
  {
   "cell_type": "code",
   "execution_count": 41,
   "metadata": {
    "collapsed": true
   },
   "outputs": [],
   "source": [
    "def find_ans():\n",
    "    start=datetime.datetime.now().time()\n",
    "    words_init=init()\n",
    "    #print(words_init)\n",
    "    words_3,words_more_3=check_words(words_init)\n",
    "    total_words=calculate(words_init)\n",
    "    end=datetime.datetime.now().time()\n",
    "    print(start,end)\n",
    "    return words_3,total_words\n",
    "    "
   ]
  },
  {
   "cell_type": "code",
   "execution_count": 42,
   "metadata": {
    "collapsed": false,
    "scrolled": true
   },
   "outputs": [
    {
     "name": "stdout",
     "output_type": "stream",
     "text": [
      "3\n",
      "4\n",
      "5\n",
      "6\n",
      "7\n",
      "8\n",
      "9\n",
      "10\n",
      "20:30:16.268532 20:30:18.714494\n"
     ]
    }
   ],
   "source": [
    "words_len_3,total_words=find_ans()"
   ]
  },
  {
   "cell_type": "code",
   "execution_count": 46,
   "metadata": {
    "collapsed": false
   },
   "outputs": [
    {
     "name": "stdout",
     "output_type": "stream",
     "text": [
      "187\n"
     ]
    }
   ],
   "source": [
    "length=0\n",
    "for i in range(len(total_words)):\n",
    "    length=length+len(total_words[i])\n",
    "    \n",
    "print(length)"
   ]
  },
  {
   "cell_type": "code",
   "execution_count": 45,
   "metadata": {
    "collapsed": false
   },
   "outputs": [
    {
     "data": {
      "text/plain": [
       "58"
      ]
     },
     "execution_count": 45,
     "metadata": {},
     "output_type": "execute_result"
    }
   ],
   "source": [
    "len(words_len_3)"
   ]
  },
  {
   "cell_type": "code",
   "execution_count": 47,
   "metadata": {
    "collapsed": false
   },
   "outputs": [
    {
     "data": {
      "text/plain": [
       "[{'aero',\n",
       "  'ails',\n",
       "  'airt',\n",
       "  'ales',\n",
       "  'alif',\n",
       "  'alit',\n",
       "  'also',\n",
       "  'awee',\n",
       "  'awes',\n",
       "  'beer',\n",
       "  'bree',\n",
       "  'bren',\n",
       "  'brew',\n",
       "  'brie',\n",
       "  'brio',\n",
       "  'brit',\n",
       "  'bros',\n",
       "  'brow',\n",
       "  'eros',\n",
       "  'ewer',\n",
       "  'ewes',\n",
       "  'fail',\n",
       "  'fair',\n",
       "  'fila',\n",
       "  'file',\n",
       "  'fils',\n",
       "  'fire',\n",
       "  'free',\n",
       "  'fret',\n",
       "  'frit',\n",
       "  'froe',\n",
       "  'frow',\n",
       "  'ilea',\n",
       "  'ires',\n",
       "  'lair',\n",
       "  'leaf',\n",
       "  'lens',\n",
       "  'lien',\n",
       "  'lier',\n",
       "  'lies',\n",
       "  'lift',\n",
       "  'lire',\n",
       "  'lite',\n",
       "  'neif',\n",
       "  'news',\n",
       "  'oils',\n",
       "  'ores',\n",
       "  'owes',\n",
       "  'owse',\n",
       "  'real',\n",
       "  'reif',\n",
       "  'rial',\n",
       "  'riel',\n",
       "  'rift',\n",
       "  'rile',\n",
       "  'rite',\n",
       "  'roes',\n",
       "  'roil',\n",
       "  'rose',\n",
       "  'rows',\n",
       "  'seal',\n",
       "  'seif',\n",
       "  'sere',\n",
       "  'serf',\n",
       "  'slay',\n",
       "  'slew',\n",
       "  'slit',\n",
       "  'soil',\n",
       "  'sorb',\n",
       "  'sore',\n",
       "  'sori',\n",
       "  'sort',\n",
       "  'tier',\n",
       "  'ties',\n",
       "  'tile',\n",
       "  'tils',\n",
       "  'tire',\n",
       "  'tiro',\n",
       "  'tree',\n",
       "  'trio',\n",
       "  'trow',\n",
       "  'weal',\n",
       "  'weer',\n",
       "  'weet',\n",
       "  'weir',\n",
       "  'wens',\n",
       "  'were',\n",
       "  'wert',\n",
       "  'woes',\n",
       "  'wore',\n",
       "  'wort'},\n",
       " {'aerie',\n",
       "  'afire',\n",
       "  'afrit',\n",
       "  'after',\n",
       "  'alert',\n",
       "  'alien',\n",
       "  'brens',\n",
       "  'brews',\n",
       "  'bries',\n",
       "  'brios',\n",
       "  'broil',\n",
       "  'brose',\n",
       "  'brows',\n",
       "  'eerie',\n",
       "  'elite',\n",
       "  'erose',\n",
       "  'fails',\n",
       "  'false',\n",
       "  'filer',\n",
       "  'files',\n",
       "  'fires',\n",
       "  'fries',\n",
       "  'froes',\n",
       "  'frows',\n",
       "  'leafy',\n",
       "  'liens',\n",
       "  'liter',\n",
       "  'litre',\n",
       "  'newer',\n",
       "  'oiler',\n",
       "  'oriel',\n",
       "  'owsen',\n",
       "  'reals',\n",
       "  'reify',\n",
       "  'relay',\n",
       "  'relit',\n",
       "  'reoil',\n",
       "  'resow',\n",
       "  'retia',\n",
       "  'retie',\n",
       "  'rials',\n",
       "  'riels',\n",
       "  'riles',\n",
       "  'riyal',\n",
       "  'roils',\n",
       "  'rowel',\n",
       "  'rowen',\n",
       "  'serif',\n",
       "  'serow',\n",
       "  'sewer',\n",
       "  'slier',\n",
       "  'sorel',\n",
       "  'sower',\n",
       "  'sweer',\n",
       "  'sweet',\n",
       "  'swore',\n",
       "  'tiler',\n",
       "  'tiles',\n",
       "  'tires',\n",
       "  'tiros',\n",
       "  'trews',\n",
       "  'trial',\n",
       "  'tries',\n",
       "  'trios',\n",
       "  'trows',\n",
       "  'weals'},\n",
       " {'aerial',\n",
       "  'aeries',\n",
       "  'aerify',\n",
       "  'afreet',\n",
       "  'aliens',\n",
       "  'broils',\n",
       "  'browse',\n",
       "  'falser',\n",
       "  'lifter',\n",
       "  'litres',\n",
       "  'oriels',\n",
       "  'reoils',\n",
       "  'retial',\n",
       "  'reties',\n",
       "  'retile',\n",
       "  'riyals',\n",
       "  'rowels',\n",
       "  'rowens',\n",
       "  'serial',\n",
       "  'soiree',\n",
       "  'sorbet',\n",
       "  'sortie',\n",
       "  'trials',\n",
       "  'triens',\n",
       "  'triose',\n",
       "  'trowel'},\n",
       " {'aerials', 'retiles', 'sweetie', 'trowels'},\n",
       " set(),\n",
       " set(),\n",
       " set()]"
      ]
     },
     "execution_count": 47,
     "metadata": {},
     "output_type": "execute_result"
    }
   ],
   "source": [
    "total_words"
   ]
  },
  {
   "cell_type": "code",
   "execution_count": null,
   "metadata": {
    "collapsed": true
   },
   "outputs": [],
   "source": []
  }
 ],
 "metadata": {
  "kernelspec": {
   "display_name": "Python 2",
   "language": "python",
   "name": "python2"
  },
  "language_info": {
   "codemirror_mode": {
    "name": "ipython",
    "version": 2
   },
   "file_extension": ".py",
   "mimetype": "text/x-python",
   "name": "python",
   "nbconvert_exporter": "python",
   "pygments_lexer": "ipython2",
   "version": "2.7.10"
  }
 },
 "nbformat": 4,
 "nbformat_minor": 2
}
